{
 "cells": [
  {
   "cell_type": "markdown",
   "id": "d88cf733-ec87-44c2-883b-3595b81c0b3e",
   "metadata": {},
   "source": [
    "Data Analytics III\n",
    "1. Implement Simple Naïve Bayes classification algorithm using Python/R on iris.csv dataset.\n",
    "2. Compute Confusion matrix to find TP, FP, TN, FN, Accuracy, Error rate, Precision, Recall on the given dataset."
   ]
  },
  {
   "cell_type": "code",
   "execution_count": 3,
   "id": "f8756d20-b8a7-4179-9f71-5f578810af14",
   "metadata": {},
   "outputs": [
    {
     "name": "stdout",
     "output_type": "stream",
     "text": [
      "[1] \"Predictions\"\n",
      " [1] Iris-setosa     Iris-setosa     Iris-setosa     Iris-setosa    \n",
      " [5] Iris-setosa     Iris-setosa     Iris-setosa     Iris-setosa    \n",
      " [9] Iris-setosa     Iris-setosa     Iris-setosa     Iris-setosa    \n",
      "[13] Iris-setosa     Iris-setosa     Iris-setosa     Iris-setosa    \n",
      "[17] Iris-setosa     Iris-versicolor Iris-versicolor Iris-versicolor\n",
      "[21] Iris-versicolor Iris-versicolor Iris-versicolor Iris-versicolor\n",
      "[25] Iris-versicolor Iris-versicolor Iris-versicolor Iris-versicolor\n",
      "[29] Iris-versicolor Iris-versicolor Iris-virginica  Iris-virginica \n",
      "[33] Iris-virginica  Iris-virginica  Iris-virginica  Iris-virginica \n",
      "[37] Iris-virginica  Iris-virginica  Iris-virginica  Iris-virginica \n",
      "[41] Iris-virginica  Iris-virginica  Iris-virginica  Iris-virginica \n",
      "[45] Iris-virginica \n",
      "Levels: Iris-setosa Iris-versicolor Iris-virginica\n",
      "[1] \"Confusion Matrix\"\n",
      "                 predictions\n",
      "                  Iris-setosa Iris-versicolor Iris-virginica\n",
      "  Iris-setosa              17               0              0\n",
      "  Iris-versicolor           0              13              0\n",
      "  Iris-virginica            0               0             15\n",
      "[1] \"Accuracy: \" \"1\"         \n",
      "[1] \"Error_rate: \" \"0\"           \n",
      "[1] \"Precision: \" \"1\"          \n",
      "[1] \"Recall: \" \"1\"       \n"
     ]
    }
   ],
   "source": [
    "library(e1071)\n",
    "\n",
    "iris <- read.csv(\"Iris.csv\")\n",
    "\n",
    "trainIndex <- sample(1:nrow(iris), 0.7*nrow(iris), replace = FALSE)\n",
    "train <- iris[trainIndex,]\n",
    "test <- iris[-trainIndex,]\n",
    "\n",
    "# Creating the Naive Bayes model\n",
    "model <- naiveBayes(Species ~ ., data = train)\n",
    "\n",
    "# Making predictions on the test set\n",
    "predictions <- predict(model, test)\n",
    "print(\"Predictions\")\n",
    "print(predictions)\n",
    "\n",
    "# Creating the confusion matrix\n",
    "conf_matrix <- table(test$Species, predictions)\n",
    "\n",
    "print(\"Confusion Matrix\")\n",
    "print(conf_matrix)\n",
    "\n",
    "# Calculating the evaluation metrics\n",
    "TP <- conf_matrix[1,1]\n",
    "FP <- conf_matrix[2,1] + conf_matrix[3,1]\n",
    "TN <- conf_matrix[2,2] + conf_matrix[3,2] + conf_matrix[1,3] + conf_matrix[2,3] + conf_matrix[3,3]\n",
    "FN <- conf_matrix[1,2] + conf_matrix[1,3]\n",
    "\n",
    "Accuracy <- sum(diag(conf_matrix))/sum(conf_matrix)\n",
    "Error_rate <- 1 - Accuracy\n",
    "Precision <- TP/(TP+FP)\n",
    "Recall <- TP/(TP+FN)\n",
    "\n",
    "print(c(\"Accuracy: \",Accuracy))\n",
    "print(c(\"Error_rate: \",Error_rate))\n",
    "print(c(\"Precision: \",Precision))\n",
    "print(c(\"Recall: \",Recall))"
   ]
  },
  {
   "cell_type": "code",
   "execution_count": null,
   "id": "846783ef-b544-4598-9333-caee13e2d8cd",
   "metadata": {},
   "outputs": [],
   "source": []
  }
 ],
 "metadata": {
  "kernelspec": {
   "display_name": "R",
   "language": "R",
   "name": "ir"
  },
  "language_info": {
   "codemirror_mode": "r",
   "file_extension": ".r",
   "mimetype": "text/x-r-source",
   "name": "R",
   "pygments_lexer": "r",
   "version": "4.3.3"
  }
 },
 "nbformat": 4,
 "nbformat_minor": 5
}
